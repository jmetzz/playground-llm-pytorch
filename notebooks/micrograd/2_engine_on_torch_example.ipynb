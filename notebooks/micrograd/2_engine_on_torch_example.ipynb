{
 "cells": [
  {
   "cell_type": "code",
   "execution_count": 1,
   "metadata": {},
   "outputs": [
    {
     "name": "stdout",
     "output_type": "stream",
     "text": [
      "echo $PATH=['/Users/jeanmetz/workspace/playground-llm-pytorch/src', '/Users/jeanmetz/.pyenv/versions/3.12.2/lib/python312.zip', '/Users/jeanmetz/.pyenv/versions/3.12.2/lib/python3.12', '/Users/jeanmetz/.pyenv/versions/3.12.2/lib/python3.12/lib-dynload', '', '/Users/jeanmetz/workspace/playground-llm-pytorch/.venv/lib/python3.12/site-packages']\n"
     ]
    }
   ],
   "source": [
    "import sys\n",
    "from pathlib import Path\n",
    "\n",
    "WORKSPACE_PATH = Path.cwd().parent.parent\n",
    "SRC_PATH = str(WORKSPACE_PATH / \"src\")\n",
    "\n",
    "if SRC_PATH not in sys.path:\n",
    "    sys.path.insert(0, SRC_PATH)\n",
    "    print(f\"echo $PATH={sys.path}\")"
   ]
  },
  {
   "cell_type": "code",
   "execution_count": 12,
   "metadata": {},
   "outputs": [],
   "source": [
    "import torch\n",
    "from torch import tensor"
   ]
  },
  {
   "cell_type": "markdown",
   "metadata": {},
   "source": [
    "# A simple neuron built with torch"
   ]
  },
  {
   "cell_type": "code",
   "execution_count": 14,
   "metadata": {},
   "outputs": [],
   "source": [
    "x1 = tensor([2.0], requires_grad=True, dtype=torch.float64)\n",
    "x2 = tensor([0.0], dtype=torch.float64, requires_grad=True)\n",
    "\n",
    "w1 = tensor([-3.0], dtype=torch.float64, requires_grad=True)\n",
    "w2 = tensor([1.0], dtype=torch.float64, requires_grad=True)\n",
    "\n",
    "b = tensor([6.881373587], requires_grad=True, dtype=torch.float64)\n",
    "\n",
    "n = (x1 * w1) + (x2 * w2) + b\n",
    "output = torch.tanh(n)\n",
    "\n",
    "output.backward()"
   ]
  },
  {
   "cell_type": "code",
   "execution_count": 16,
   "metadata": {},
   "outputs": [
    {
     "name": "stdout",
     "output_type": "stream",
     "text": [
      "output.grad: 0.7071\n",
      "x1.grad: -1.5000\n",
      "w1.grad: 1.0000\n",
      "x2.grad: 0.5000\n",
      "w2.grad: 0.0000\n"
     ]
    }
   ],
   "source": [
    "print(f\"output.grad: {output.data.item():.4f}\")\n",
    "\n",
    "print(f\"x1.grad: {x1.grad.item():.4f}\")\n",
    "print(f\"w1.grad: {w1.grad.item():.4f}\")\n",
    "print(f\"x2.grad: {x2.grad.item():.4f}\")\n",
    "print(f\"w2.grad: {w2.grad.item():.4f}\")"
   ]
  }
 ],
 "metadata": {
  "kernelspec": {
   "display_name": ".venv",
   "language": "python",
   "name": "python3"
  },
  "language_info": {
   "codemirror_mode": {
    "name": "ipython",
    "version": 3
   },
   "file_extension": ".py",
   "mimetype": "text/x-python",
   "name": "python",
   "nbconvert_exporter": "python",
   "pygments_lexer": "ipython3",
   "version": "3.12.2"
  }
 },
 "nbformat": 4,
 "nbformat_minor": 2
}
